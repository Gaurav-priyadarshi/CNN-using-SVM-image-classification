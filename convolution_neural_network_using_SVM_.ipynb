{
  "nbformat": 4,
  "nbformat_minor": 0,
  "metadata": {
    "accelerator": "GPU",
    "colab": {
      "name": "convolution neural network using SVM .ipynb",
      "provenance": [],
      "collapsed_sections": []
    },
    "kernelspec": {
      "display_name": "Python 3",
      "name": "python3"
    },
    "language_info": {
      "name": "python"
    }
  },
  "cells": [
    {
      "cell_type": "code",
      "metadata": {
        "id": "XbOA1iNvyX7U"
      },
      "source": [
        "import tensorflow as tf\n",
        "from tensorflow.keras.preprocessing.image import ImageDataGenerator\n",
        "from tensorflow.keras.models import Sequential\n",
        "from tensorflow.keras.layers import Conv2D,MaxPool2D,Flatten\n",
        "from tensorflow.keras.layers import Dense\n",
        "from tensorflow.keras.regularizers import l2"
      ],
      "execution_count": 1,
      "outputs": []
    },
    {
      "cell_type": "code",
      "metadata": {
        "colab": {
          "base_uri": "https://localhost:8080/"
        },
        "id": "XYT7yHSZB14-",
        "outputId": "2987b959-e725-4e68-9704-edce03d037ff"
      },
      "source": [
        "from google.colab import drive\n",
        "drive.mount('/content/drive')"
      ],
      "execution_count": 2,
      "outputs": [
        {
          "output_type": "stream",
          "text": [
            "Drive already mounted at /content/drive; to attempt to forcibly remount, call drive.mount(\"/content/drive\", force_remount=True).\n"
          ],
          "name": "stdout"
        }
      ]
    },
    {
      "cell_type": "code",
      "metadata": {
        "id": "zrfRq2Xl0mq4"
      },
      "source": [
        "train_path = '/content/drive/MyDrive/data/cats and dogs/train'\n",
        "test_path = '/content/drive/MyDrive/data/cats and dogs/validation'"
      ],
      "execution_count": 3,
      "outputs": []
    },
    {
      "cell_type": "code",
      "metadata": {
        "id": "6yX9sgJg03QN"
      },
      "source": [
        "train_data_gen = ImageDataGenerator(rescale=1./255,shear_range=0.2,\n",
        "                                    zoom_range = 0.2,\n",
        "                                    horizontal_flip = True)\n",
        "\n",
        "test_data_gen = ImageDataGenerator(rescale=1./255)"
      ],
      "execution_count": 4,
      "outputs": []
    },
    {
      "cell_type": "code",
      "metadata": {
        "colab": {
          "base_uri": "https://localhost:8080/"
        },
        "id": "4icjqUfJ1SiA",
        "outputId": "c1a625be-7d80-4371-9e5b-6169fd94efa9"
      },
      "source": [
        "training_set = train_data_gen.flow_from_directory(train_path,target_size=(64,64),\n",
        "                                                  batch_size = 4,\n",
        "                                                  class_mode = 'binary')\n",
        "\n",
        "test_set = test_data_gen.flow_from_directory(test_path,target_size=(64,64),\n",
        "                                             batch_size=4,class_mode='binary')"
      ],
      "execution_count": 5,
      "outputs": [
        {
          "output_type": "stream",
          "text": [
            "Found 53 images belonging to 2 classes.\n",
            "Found 44 images belonging to 2 classes.\n"
          ],
          "name": "stdout"
        }
      ]
    },
    {
      "cell_type": "code",
      "metadata": {
        "id": "doUNG0-v16Rr"
      },
      "source": [
        "## creating convolution network\n",
        "# 1st convolution layer\n",
        "cnn = Sequential()\n",
        "cnn.add(Conv2D(filters=32,padding='same',activation='relu',\n",
        "               kernel_size=(3,3),input_shape=[64,64,3],strides = (2,2)))\n",
        "\n",
        "cnn.add(MaxPool2D(pool_size=(2,2),strides=(2,2)))"
      ],
      "execution_count": 6,
      "outputs": []
    },
    {
      "cell_type": "code",
      "metadata": {
        "id": "OSFpufBx2ytu"
      },
      "source": [
        "# 2nd convolution layer\n",
        "cnn.add(Conv2D(filters=32,padding='same',kernel_size=(3,3),\n",
        "               activation='relu',strides=(2,2)))\n",
        "cnn.add(MaxPool2D(pool_size=(2,2),strides=(2,2)))"
      ],
      "execution_count": 7,
      "outputs": []
    },
    {
      "cell_type": "code",
      "metadata": {
        "id": "XFxSdVeQ3i25"
      },
      "source": [
        "# faltten the layers\n",
        "cnn.add(Flatten())\n",
        "\n",
        "## fully connected layers\n",
        "cnn.add(Dense(units=64,activation='relu'))\n"
      ],
      "execution_count": 8,
      "outputs": []
    },
    {
      "cell_type": "code",
      "metadata": {
        "id": "jdE32Q804AzF"
      },
      "source": [
        "# output layers and apply svm at output layers\n",
        "cnn.add(Dense(units=1,kernel_regularizer=tf.keras.regularizers.l2(0.01),\n",
        "              activation='linear')) # for binary classification always use linear activation"
      ],
      "execution_count": 9,
      "outputs": []
    },
    {
      "cell_type": "code",
      "metadata": {
        "id": "d1Xrimdz4tBr"
      },
      "source": [
        "## compiling the cnn model\n",
        "cnn.compile(optimizer='adam',loss = 'hinge',metrics=['accuracy']) # for binary classification using svm loss is hinge fro multiclass loss is squared_hinge\n",
        "fit  = cnn.fit(x = training_set,validation_data=test_set,epochs = 100)\n"
      ],
      "execution_count": null,
      "outputs": []
    },
    {
      "cell_type": "code",
      "metadata": {
        "id": "vwg6STrd6g3n"
      },
      "source": [
        "import matplotlib.pyplot as plt\n",
        "plt.plot(fit.history['loss'],label = 'train_loss')\n",
        "plt.plot(fit.history['val_loss'],label = 'val_loss')\n",
        "plt.legend()\n",
        "plt.show()"
      ],
      "execution_count": null,
      "outputs": []
    },
    {
      "cell_type": "code",
      "metadata": {
        "id": "bWoX-Wyu-YTr"
      },
      "source": [
        "plt.plot(fit.history['accuracy'],label = 'train_acc')\n",
        "plt.plot(fit.history['val_accuracy'],label = 'val_acc')\n",
        "plt.legend()\n",
        "plt.show()"
      ],
      "execution_count": null,
      "outputs": []
    },
    {
      "cell_type": "code",
      "metadata": {
        "colab": {
          "base_uri": "https://localhost:8080/"
        },
        "id": "nt5B9F5a-YV5",
        "outputId": "0b5aed79-04a6-4ef9-efbf-0c7dfb484e54"
      },
      "source": [
        "#save file\n",
        "from tensorflow.keras.models import load_model\n",
        "cnn.save('model_cat_dig_svm.h5')\n",
        "model = load_model('model_cat_dig_svm.h5')\n",
        "model.summary()"
      ],
      "execution_count": 15,
      "outputs": [
        {
          "output_type": "stream",
          "text": [
            "Model: \"sequential\"\n",
            "_________________________________________________________________\n",
            "Layer (type)                 Output Shape              Param #   \n",
            "=================================================================\n",
            "conv2d (Conv2D)              (None, 32, 32, 32)        896       \n",
            "_________________________________________________________________\n",
            "max_pooling2d (MaxPooling2D) (None, 16, 16, 32)        0         \n",
            "_________________________________________________________________\n",
            "conv2d_1 (Conv2D)            (None, 8, 8, 32)          9248      \n",
            "_________________________________________________________________\n",
            "max_pooling2d_1 (MaxPooling2 (None, 4, 4, 32)          0         \n",
            "_________________________________________________________________\n",
            "flatten (Flatten)            (None, 512)               0         \n",
            "_________________________________________________________________\n",
            "dense (Dense)                (None, 64)                32832     \n",
            "_________________________________________________________________\n",
            "dense_1 (Dense)              (None, 1)                 65        \n",
            "=================================================================\n",
            "Total params: 43,041\n",
            "Trainable params: 43,041\n",
            "Non-trainable params: 0\n",
            "_________________________________________________________________\n"
          ],
          "name": "stdout"
        }
      ]
    },
    {
      "cell_type": "code",
      "metadata": {
        "id": "KCFjk8b--YYS"
      },
      "source": [
        "##making single prediction\n",
        "import numpy as np\n",
        "from tensorflow.keras.preprocessing import image\n",
        "test_image = image.load_img('/content/drive/MyDrive/ANN/cat_0_1090.jpeg',target_size = (64,64))\n",
        "test_image = image.img_to_array(test_image)\n",
        "test_image = test_image/255\n",
        "test_image = np.expand_dims(test_image,axis = 0)\n",
        "result = cnn.predict(test_image)\n"
      ],
      "execution_count": 16,
      "outputs": []
    },
    {
      "cell_type": "code",
      "metadata": {
        "id": "VrIxk4f-_xb0",
        "colab": {
          "base_uri": "https://localhost:8080/"
        },
        "outputId": "d4b0fa18-eacc-44d8-ab91-9b03278686d5"
      },
      "source": [
        "if result[0]<0:\n",
        "  print('this is a cat')\n",
        "else:\n",
        "  print('ths is a dog')"
      ],
      "execution_count": 19,
      "outputs": [
        {
          "output_type": "stream",
          "text": [
            "this is a cat\n"
          ],
          "name": "stdout"
        }
      ]
    },
    {
      "cell_type": "code",
      "metadata": {
        "id": "1dxIOLxOHeyL"
      },
      "source": [
        ""
      ],
      "execution_count": null,
      "outputs": []
    }
  ]
}